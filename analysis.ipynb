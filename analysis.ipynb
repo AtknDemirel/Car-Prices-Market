{
 "cells": [
  {
   "cell_type": "code",
   "execution_count": 5,
   "metadata": {},
   "outputs": [],
   "source": [
    "import pandas as pd"
   ]
  },
  {
   "cell_type": "code",
   "execution_count": 22,
   "metadata": {},
   "outputs": [
    {
     "name": "stdout",
     "output_type": "stream",
     "text": [
      "  web-scraper-order                         Car Model       Old Price  \\\n",
      "0      1680210890-1  Porsche Cayenne A/T / Coupe 2020  2,262,876\\nEGP   \n",
      "1      1680210890-2  Porsche Cayenne A/T / Coupe 2020  2,078,727\\nEGP   \n",
      "2      1680210890-3      Porsche Cayenne A/T / S 2020  2,388,000\\nEGP   \n",
      "3      1680210890-4      Porsche Cayenne A/T / S 2020  2,262,876\\nEGP   \n",
      "4      1680210890-5        Lexus LX 570 Automtic 2020  5,600,000\\nEGP   \n",
      "\n",
      "                   Price Change       New Price  date_range  \n",
      "0   trending_down\\n-82,876\\nEGP  2,180,000\\nEGP  18/11/2020  \n",
      "1    trending_up\\n+184,149\\nEGP  2,262,876\\nEGP  14/10/2019  \n",
      "2   trending_down\\n-93,000\\nEGP  2,295,000\\nEGP  18/11/2020  \n",
      "3    trending_up\\n+125,124\\nEGP  2,388,000\\nEGP  15/10/2019  \n",
      "4  trending_down\\n-350,000\\nEGP  5,250,000\\nEGP  18/05/2020  \n",
      "\n",
      "Second dataset\n",
      "\n",
      "  web-scraper-order              Car Model Month/Year Average price  \\\n",
      "0      1680204632-1  Skoda Octavia A8 2022    2023-03   967,000 EGP   \n",
      "1      1680204632-2  Skoda Octavia A8 2022    2023-02   979,000 EGP   \n",
      "2      1680204632-3  Skoda Octavia A8 2022    2023-01   917,000 EGP   \n",
      "3      1680204632-4  Skoda Octavia A8 2022    2022-12   881,000 EGP   \n",
      "4      1680204632-5  Skoda Octavia A8 2022    2022-11   868,000 EGP   \n",
      "\n",
      "  Minimum price  Maximum price  \n",
      "0   926,000 EGP  1,017,000 EGP  \n",
      "1   931,000 EGP  1,045,000 EGP  \n",
      "2   893,000 EGP    950,000 EGP  \n",
      "3   793,000 EGP    950,000 EGP  \n",
      "4   789,000 EGP    950,000 EGP  \n"
     ]
    }
   ],
   "source": [
    "new_df = pd.read_csv(\".devcontainer/new_cars_prices.csv\")\n",
    "used_df = pd.read_csv(\".devcontainer/used_car_prices.csv\")\n",
    "\n",
    "print(new_df.head())\n",
    "print(\"\\nSecond dataset\\n\")\n",
    "print(used_df.head())\n"
   ]
  },
  {
   "cell_type": "code",
   "execution_count": 13,
   "metadata": {},
   "outputs": [
    {
     "name": "stdout",
     "output_type": "stream",
     "text": [
      "(3433, 6)\n",
      "(79090, 6)\n"
     ]
    }
   ],
   "source": [
    "print(new_df.shape)\n",
    "print(used_df.shape)"
   ]
  },
  {
   "cell_type": "code",
   "execution_count": 23,
   "metadata": {},
   "outputs": [
    {
     "name": "stdout",
     "output_type": "stream",
     "text": [
      "<class 'pandas.core.frame.DataFrame'>\n",
      "RangeIndex: 3433 entries, 0 to 3432\n",
      "Data columns (total 6 columns):\n",
      " #   Column             Non-Null Count  Dtype \n",
      "---  ------             --------------  ----- \n",
      " 0   web-scraper-order  3433 non-null   object\n",
      " 1   Car Model          3433 non-null   object\n",
      " 2   Old Price          3433 non-null   object\n",
      " 3   Price Change       3433 non-null   object\n",
      " 4   New Price          3433 non-null   object\n",
      " 5   date_range         3433 non-null   object\n",
      "dtypes: object(6)\n",
      "memory usage: 161.0+ KB\n",
      "None\n",
      "<class 'pandas.core.frame.DataFrame'>\n",
      "RangeIndex: 79090 entries, 0 to 79089\n",
      "Data columns (total 6 columns):\n",
      " #   Column             Non-Null Count  Dtype \n",
      "---  ------             --------------  ----- \n",
      " 0   web-scraper-order  79090 non-null  object\n",
      " 1   Car Model          79090 non-null  object\n",
      " 2   Month/Year         78612 non-null  object\n",
      " 3   Average price      78612 non-null  object\n",
      " 4   Minimum price      78612 non-null  object\n",
      " 5   Maximum price      78612 non-null  object\n",
      "dtypes: object(6)\n",
      "memory usage: 3.6+ MB\n",
      "None\n"
     ]
    }
   ],
   "source": [
    "print(new_df.info())\n",
    "print(used_df.info())"
   ]
  },
  {
   "cell_type": "code",
   "execution_count": 24,
   "metadata": {},
   "outputs": [],
   "source": [
    "new_df.drop('web-scraper-order', axis=1, inplace=True)\n",
    "used_df.drop('web-scraper-order', axis=1, inplace=True)"
   ]
  },
  {
   "cell_type": "code",
   "execution_count": 26,
   "metadata": {},
   "outputs": [
    {
     "name": "stdout",
     "output_type": "stream",
     "text": [
      "Index(['Car Model', 'Old Price', 'Price Change', 'New Price', 'date_range'], dtype='object')\n",
      "Index(['Car Model', 'Month/Year', 'Average price', 'Minimum price',\n",
      "       'Maximum price'],\n",
      "      dtype='object')\n"
     ]
    }
   ],
   "source": [
    "print(new_df.columns)\n",
    "print(used_df.columns)"
   ]
  },
  {
   "cell_type": "code",
   "execution_count": 20,
   "metadata": {},
   "outputs": [
    {
     "data": {
      "text/plain": [
       "Index(['web-scraper-order', 'Car Model', 'Month/Year', 'Average price',\n",
       "       'Minimum price', 'Maximum price'],\n",
       "      dtype='object')"
      ]
     },
     "execution_count": 20,
     "metadata": {},
     "output_type": "execute_result"
    }
   ],
   "source": []
  },
  {
   "cell_type": "code",
   "execution_count": null,
   "metadata": {},
   "outputs": [],
   "source": []
  }
 ],
 "metadata": {
  "kernelspec": {
   "display_name": "base",
   "language": "python",
   "name": "python3"
  },
  "language_info": {
   "codemirror_mode": {
    "name": "ipython",
    "version": 3
   },
   "file_extension": ".py",
   "mimetype": "text/x-python",
   "name": "python",
   "nbconvert_exporter": "python",
   "pygments_lexer": "ipython3",
   "version": "3.10.9"
  },
  "orig_nbformat": 4
 },
 "nbformat": 4,
 "nbformat_minor": 2
}
